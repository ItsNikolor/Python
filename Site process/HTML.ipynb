{
 "cells": [
  {
   "cell_type": "code",
   "execution_count": 1,
   "metadata": {},
   "outputs": [],
   "source": [
    "import requests\n",
    "from bs4 import BeautifulSoup\n",
    "from multiprocessing import Pool\n",
    "import re\n",
    "from functools import reduce "
   ]
  },
  {
   "cell_type": "code",
   "execution_count": 2,
   "metadata": {},
   "outputs": [],
   "source": [
    "re_notsymb = re.compile(r'\\W+')\n",
    "re_number0=re.compile(r'\\d')\n",
    "re_endword=re.compile(r'\\w*\\.')\n",
    "re_space=re.compile(r'\\s+')\n",
    "re_colon=re.compile(r'.*:')"
   ]
  },
  {
   "cell_type": "code",
   "execution_count": 3,
   "metadata": {},
   "outputs": [],
   "source": [
    "author_id={\n",
    "  \"Достоевский Ф. М.\": 9150,\n",
    "  \"Роллинс Дж.\": 59396,\n",
    "  \"Фицджеральд Ф. С.\": 28727,\n",
    "  \"Глуховский Д. А.\": 53427,\n",
    "  \"Стругацкий А. Н.\": 26268,\n",
    "  \"Лукьяненко С. В.\": 16626,\n",
    "  \"Фрай М.\": 28927,\n",
    "  \"Хантер Э.\": 37969,\n",
    "  \"Роулинг Дж. К.\": 104832\n",
    "}"
   ]
  },
  {
   "cell_type": "code",
   "execution_count": 4,
   "metadata": {},
   "outputs": [],
   "source": [
    "def loger(func):\n",
    "    import functools\n",
    "    @functools.wraps(func)\n",
    "    def wraper(*argc,**argv):\n",
    "        res = func(*argc,**argv)\n",
    "        with mutex:\n",
    "            global n_processed\n",
    "            n_processed += 1\n",
    "            if n_processed % 10 == 0:\n",
    "                print(f\"\\r{n_processed} objects are processed...\", end='', flush=True)\n",
    "        return res\n",
    "    return wraper"
   ]
  },
  {
   "cell_type": "code",
   "execution_count": 9,
   "metadata": {},
   "outputs": [],
   "source": [
    "@loger\n",
    "def extract_book_info(book_id):    \n",
    "    url='https://www.moscowbooks.ru'+book_id[0]\n",
    "    html=requests.get(url).text\n",
    "    soup=BeautifulSoup(html,'lxml')\n",
    "\n",
    "    ans=dict()\n",
    "\n",
    "    ans['ID']=book_id[0][6:-1]\n",
    "    ans['Автор']=soup.find(class_=\"page-header__author\").text[1:-1]\n",
    "    ans['Название']=book_id[1]\n",
    "\n",
    "    book_body=soup.find('div',class_=\"book__body\")\n",
    "    book_intro=book_body.find('div',class_=\"book__intro\")\n",
    "    book_info=book_body.find('div',class_=\"book__info\")\n",
    "\n",
    "    ans['Наличие']=book_intro.find(class_=\"book__shop-instock\") is None\n",
    "    tmp=book_intro.find(class_=\"book__price\")\n",
    "    ans['Цена']=''.join(re_number0.findall(tmp.text))+' '+re_endword.search(tmp.text)[0]\n",
    "\n",
    "    description = book_info.find(class_=\"book__description\")\n",
    "    for d in description.find_all(['b','a']):\n",
    "        d.replace_with('')\n",
    "\n",
    "    for br in description.find_all(\"br\"):\n",
    "        br.replace_with(\"\\n\")\n",
    "\n",
    "    ans['Описание']=re_space.sub(' ', description.text)[1:]\n",
    "\n",
    "\n",
    "\n",
    "    ans['Рейтинг']=book_body.find(class_=\"book___rating-stars rating-stars rating-stars_lg\")['data-rate']\n",
    "    ans['Обложка']='https://www.moscowbooks.ru'+book_intro.find(class_=\"book__img book__img_default gallery__img\")['src']\n",
    "    ans['Стикеры']=';'.join({re_notsymb.sub('',i.text) if i.span is None else i.span['title']\n",
    "                          for i in [item for j in book_intro.find_all(class_='book__stickers')\n",
    "                                    for item in j.find_all(class_='stickers__item')]})\n",
    "\n",
    "\n",
    "\n",
    "\n",
    "\n",
    "\n",
    "    for side in ['left','right']:\n",
    "        for dl in book_info.find(class_=f'book__details-{side}').find_all('dl'):\n",
    "            dt=dl.find_all('dt')\n",
    "            key=re_colon.search(re_space.sub(' ', dt[0].text)[1:])[0][:-1]\n",
    "            value=re_space.sub(' ', dt[1].text)[1:]\n",
    "            ans[key]=value\n",
    "    \n",
    "    return ans"
   ]
  },
  {
   "cell_type": "code",
   "execution_count": 10,
   "metadata": {},
   "outputs": [],
   "source": [
    "max_counter=5\n",
    "\n",
    "def f(author):\n",
    "    url_0 = f'https://www.moscowbooks.ru/catalog/author/{author_id[author]}/'\n",
    "\n",
    "    downloaded=True\n",
    "    counter=0\n",
    "\n",
    "    html_0 = requests.get(url_0)\n",
    "    while(html_0.status_code!=200):\n",
    "        counter+=1\n",
    "        if(counter==max_counter):\n",
    "            downloaded=False\n",
    "            break\n",
    "        sleep(1)\n",
    "        html_0 = requests.get(url_0)\n",
    "\n",
    "    if not downloaded:\n",
    "        return []\n",
    "\n",
    "    soup = BeautifulSoup(html_0.text, 'lxml')\n",
    "    ans=[]\n",
    "    number_of_pages=max(len(soup.find_all(class_='pager__text')),2)\n",
    "\n",
    "    for i in range(1,number_of_pages):\n",
    "        url=url_0+f'?page={i}'\n",
    "\n",
    "        downloaded=True\n",
    "        counter=0\n",
    "        html=requests.get(url)\n",
    "\n",
    "        while(html.status_code!=200):\n",
    "            counter+=1\n",
    "            if(counter==max_counter):\n",
    "                downloaded=False\n",
    "                break\n",
    "            sleep(1)\n",
    "            html = requests.get(url)\n",
    "\n",
    "        if not downloaded:\n",
    "            continue\n",
    "\n",
    "\n",
    "        soup=BeautifulSoup(html.text,'lxml')\n",
    "        ans+=[(i['href'],i.text) for i in soup.find_all(class_=\"book-preview__title-link\")]\n",
    "    return ans\n"
   ]
  },
  {
   "cell_type": "code",
   "execution_count": 11,
   "metadata": {},
   "outputs": [],
   "source": [
    "from multiprocessing.pool import ThreadPool as Pool\n",
    "\n",
    "with Pool(9) as p:\n",
    "    x=p.map(f,author_id )\n",
    "x=[element for sublist in x for element in sublist]"
   ]
  },
  {
   "cell_type": "code",
   "execution_count": 12,
   "metadata": {},
   "outputs": [
    {
     "name": "stdout",
     "output_type": "stream",
     "text": [
      "240 objects are processed..."
     ]
    }
   ],
   "source": [
    "from threading import Lock\n",
    "import pandas as pd\n",
    "\n",
    "mutex = Lock()\n",
    "n_processed = 0\n",
    "\n",
    "with Pool(15) as p:\n",
    "    result = p.map(extract_book_info, x)\n",
    "df = pd.DataFrame(result)\n",
    "df.sort_values(by=['ID'], inplace=True)\n",
    "\n",
    "with open('data/hw_3.csv', mode='w', encoding='utf-8') as f_csv:\n",
    "    df.to_csv(f_csv, index=False)"
   ]
  }
 ],
 "metadata": {
  "kernelspec": {
   "display_name": "Python 3",
   "language": "python",
   "name": "python3"
  },
  "language_info": {
   "codemirror_mode": {
    "name": "ipython",
    "version": 3
   },
   "file_extension": ".py",
   "mimetype": "text/x-python",
   "name": "python",
   "nbconvert_exporter": "python",
   "pygments_lexer": "ipython3",
   "version": "3.7.3"
  }
 },
 "nbformat": 4,
 "nbformat_minor": 2
}
